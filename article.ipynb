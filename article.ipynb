{
 "cells": [
  {
   "cell_type": "code",
   "execution_count": 1,
   "metadata": {
    "tags": [
     "hide_code"
    ]
   },
   "outputs": [],
   "source": [
    "import numpy as np\n",
    "import bplot as bp\n",
    "import pandas as pd\n",
    "from scipy.stats import norm as normal\n",
    "bp.LaTeX()\n",
    "bp.dpi()"
   ]
  },
  {
   "cell_type": "markdown",
   "metadata": {},
   "source": [
    "There's a good number of attempts to make Jupyter notebooks <d-cite key=\"Kluyver:2016\"></d-cite> publication ready.  The goal is to NBConvert a Jupyter notebook into a Distill.pub styled article.  The workhorse is the Jinja2 <d-cite key=\"Ronacher:2008\"></d-cite> template <code>report.tpl</code>."
   ]
  },
  {
   "cell_type": "markdown",
   "metadata": {},
   "source": [
    "<h2>NBconverting</h2>"
   ]
  },
  {
   "cell_type": "markdown",
   "metadata": {},
   "source": [
    "With the file <code>report.tpl</code> in the same current directory as the notebook you want to convert, run"
   ]
  },
  {
   "cell_type": "code",
   "execution_count": null,
   "metadata": {
    "code": "bash",
    "deletable": false,
    "editable": false,
    "run_control": {
     "frozen": true
    }
   },
   "outputs": [],
   "source": [
    "jupyter nbconvert --to html --template report.tpl article.ipynb"
   ]
  },
  {
   "cell_type": "markdown",
   "metadata": {},
   "source": [
    "<h2>Features</h2>"
   ]
  },
  {
   "cell_type": "markdown",
   "metadata": {},
   "source": [
    "The title and abstract of this article are stored in this notebook's metadata.  So too are the authors, their affiliations, and the bibfile used for citations.  This notebook also makes extensive use of cell tags and cell metadata.  All of the metadata keys are subject to change\n",
    "."
   ]
  },
  {
   "cell_type": "markdown",
   "metadata": {},
   "source": [
    "This is a markdown cell that has been hacked to work with citations such as <d-cite key=\"Kluyver:2016\"></d-cite>.  An outcome of this hack is that **markdown** does not work like it *should*, but the equivalent <b>HTML</b> tags <em>will</em> work.  This goes the same for the Section headline above, which is coded with <d-code language=\"html\">&lt;h2&gt;</d-code> tags.  Another quirk derived from this citation hack is that the citations don't show up after executing this cell within the Jupyter Notebook environment."
   ]
  },
  {
   "cell_type": "markdown",
   "metadata": {
    "tags": [
     "only_md"
    ]
   },
   "source": [
    "It is really the combination that citations and markdown that don't agree.  For instancce, *this* cell, with tag `only_md`, is perfectly happy translating markdown into HTML."
   ]
  },
  {
   "cell_type": "markdown",
   "metadata": {
    "tags": [
     "margin"
    ]
   },
   "source": [
    "You can add marginalia too, with the key <code>margin</code>, which aligns to the previous cell."
   ]
  },
  {
   "cell_type": "markdown",
   "metadata": {},
   "source": [
    "$\\LaTeX$ works inline and in display mode."
   ]
  },
  {
   "cell_type": "markdown",
   "metadata": {},
   "source": [
    "$$ F(x) = \\int_{-\\infty}^{x} (2\\pi\\sigma^2)^{-1/2} \\exp{ \\left\\{ \\frac{-(s - \\mu)^2}{2\\sigma^2} \\right\\} }ds $$"
   ]
  },
  {
   "cell_type": "markdown",
   "metadata": {
    "tags": [
     "only_md"
    ]
   },
   "source": [
    "You can hide code with the cell tag `hide_code`, and Pandas' DataFrames look so so."
   ]
  },
  {
   "cell_type": "code",
   "execution_count": 2,
   "metadata": {
    "tags": [
     "hide_code"
    ]
   },
   "outputs": [
    {
     "data": {
      "text/html": [
       "<div>\n",
       "<style scoped>\n",
       "    .dataframe tbody tr th:only-of-type {\n",
       "        vertical-align: middle;\n",
       "    }\n",
       "\n",
       "    .dataframe tbody tr th {\n",
       "        vertical-align: top;\n",
       "    }\n",
       "\n",
       "    .dataframe thead th {\n",
       "        text-align: right;\n",
       "    }\n",
       "</style>\n",
       "<table border=\"1\" class=\"dataframe\">\n",
       "  <thead>\n",
       "    <tr style=\"text-align: right;\">\n",
       "      <th></th>\n",
       "      <th>price</th>\n",
       "      <th>mpgCity</th>\n",
       "      <th>passengers</th>\n",
       "      <th>weight</th>\n",
       "    </tr>\n",
       "    <tr>\n",
       "      <th>type</th>\n",
       "      <th></th>\n",
       "      <th></th>\n",
       "      <th></th>\n",
       "      <th></th>\n",
       "    </tr>\n",
       "  </thead>\n",
       "  <tbody>\n",
       "    <tr>\n",
       "      <th>large</th>\n",
       "      <td>24.300000</td>\n",
       "      <td>18.363636</td>\n",
       "      <td>6.000000</td>\n",
       "      <td>3695.454545</td>\n",
       "    </tr>\n",
       "    <tr>\n",
       "      <th>midsize</th>\n",
       "      <td>27.218182</td>\n",
       "      <td>19.545455</td>\n",
       "      <td>5.136364</td>\n",
       "      <td>3400.000000</td>\n",
       "    </tr>\n",
       "    <tr>\n",
       "      <th>small</th>\n",
       "      <td>10.166667</td>\n",
       "      <td>29.857143</td>\n",
       "      <td>4.619048</td>\n",
       "      <td>2312.857143</td>\n",
       "    </tr>\n",
       "  </tbody>\n",
       "</table>\n",
       "</div>"
      ],
      "text/plain": [
       "             price    mpgCity  passengers       weight\n",
       "type                                                  \n",
       "large    24.300000  18.363636    6.000000  3695.454545\n",
       "midsize  27.218182  19.545455    5.136364  3400.000000\n",
       "small    10.166667  29.857143    4.619048  2312.857143"
      ]
     },
     "execution_count": 2,
     "metadata": {},
     "output_type": "execute_result"
    }
   ],
   "source": [
    "df = pd.read_csv(\"https://raw.githubusercontent.com/roualdes/data/master/cars.csv\")\n",
    "df.groupby('type').agg('mean')"
   ]
  },
  {
   "cell_type": "markdown",
   "metadata": {},
   "source": [
    "Code works as expected."
   ]
  },
  {
   "cell_type": "code",
   "execution_count": 3,
   "metadata": {},
   "outputs": [
    {
     "data": {
      "text/plain": [
       "9.42477796076938"
      ]
     },
     "execution_count": 3,
     "metadata": {},
     "output_type": "execute_result"
    }
   ],
   "source": [
    "np.pi * 3"
   ]
  },
  {
   "cell_type": "markdown",
   "metadata": {},
   "source": [
    "Errors are hidden."
   ]
  },
  {
   "cell_type": "code",
   "execution_count": 4,
   "metadata": {},
   "outputs": [
    {
     "ename": "NameError",
     "evalue": "name 'nb' is not defined",
     "output_type": "error",
     "traceback": [
      "\u001b[0;31m---------------------------------------------------------------------------\u001b[0m",
      "\u001b[0;31mNameError\u001b[0m                                 Traceback (most recent call last)",
      "\u001b[0;32m<ipython-input-4-44782c99251d>\u001b[0m in \u001b[0;36m<module>\u001b[0;34m()\u001b[0m\n\u001b[0;32m----> 1\u001b[0;31m \u001b[0mnb\u001b[0m\u001b[0;34m.\u001b[0m\u001b[0mpi\u001b[0m\u001b[0;34m\u001b[0m\u001b[0;34m\u001b[0m\u001b[0m\n\u001b[0m",
      "\u001b[0;31mNameError\u001b[0m: name 'nb' is not defined"
     ]
    }
   ],
   "source": [
    "nb.pi"
   ]
  },
  {
   "cell_type": "markdown",
   "metadata": {},
   "source": [
    "Ouput, that otherwise prints inside a notebook, is easily hidden by storing the output into a variable and/or putting a semicolon at the end of the last line that otherwise prints the output."
   ]
  },
  {
   "cell_type": "code",
   "execution_count": null,
   "metadata": {},
   "outputs": [],
   "source": [
    "2 + 2;"
   ]
  },
  {
   "cell_type": "markdown",
   "metadata": {
    "tags": [
     "only_md"
    ]
   },
   "source": [
    "Plots can have captions, specified via a tag named `caption` in the cell's metadata."
   ]
  },
  {
   "cell_type": "code",
   "execution_count": 5,
   "metadata": {
    "caption": "The probability density function of the standard normal distribution."
   },
   "outputs": [
    {
     "data": {
      "image/png": "[encoded data removed]",
      "text/plain": [
       "<Figure size 432x288 with 1 Axes>"
      ]
     },
     "metadata": {
      "needs_background": "light"
     },
     "output_type": "display_data"
    }
   ],
   "source": [
    "x = np.linspace(-4, 4, 101)\n",
    "y = normal.pdf(x)\n",
    "bp.curve(x, y)\n",
    "bp.labels(x=\"$z$\", y=\"$f(z)$\", size=18)\n",
    "bp.title(\"Standard normal distribution\", size=18)\n",
    "bp.save('normal.svg');"
   ]
  },
  {
   "cell_type": "markdown",
   "metadata": {
    "tags": [
     "only_md"
    ]
   },
   "source": [
    "Notice that citations even work, so long as you don't break [CORS](https://developer.mozilla.org/en-US/docs/Web/HTTP/CORS) policy.  Save a URL to an HTTPS linked .bib file under key `bibfile` within the notebook's metadata and then `<d-cite key=\"citekey\"></d-cite>` commands should work."
   ]
  },
  {
   "cell_type": "markdown",
   "metadata": {},
   "source": [
    "<h2>TODO</h2>"
   ]
  },
  {
   "cell_type": "markdown",
   "metadata": {
    "tags": [
     "only_md"
    ]
   },
   "source": [
    "- resolve notebook/cell metadata keys (names)\n",
    "- develop policy code shown/not shown by default; add cell tag to switch\n",
    "- showcase widgets\n",
    "- add distill.pub layout features\n",
    "- DataFrames/tables could use some love"
   ]
  }
 ],
 "metadata": {
  "abstract": "Yet another attempt at publication ready Jupyter notebooks.  The goal is to NBConvert a Jupyter Notebook into a Distill.pub styled article.",
  "authors": [
   {
    "affiliations": [
     {
      "name": "CSU, Chico",
      "url": "https://www.csuchico.edu/math"
     }
    ],
    "author": "Edward A. Roualdes",
    "authorURL": "https://roualdes.us/"
   }
  ],
  "bibfile": "https://raw.githubusercontent.com/roualdes/nbdistill/master/refs.bib",
  "celltoolbar": "Tags",
  "kernelspec": {
   "display_name": "Python 3",
   "language": "python",
   "name": "python3"
  },
  "language_info": {
   "codemirror_mode": {
    "name": "ipython",
    "version": 3
   },
   "file_extension": ".py",
   "mimetype": "text/x-python",
   "name": "python",
   "nbconvert_exporter": "python",
   "pygments_lexer": "ipython3",
   "version": "3.7.3"
  },
  "title": "Publication Ready Jupyter Notebooks",
  "toc": {
   "base_numbering": 1,
   "nav_menu": {},
   "number_sections": true,
   "sideBar": true,
   "skip_h1_title": false,
   "title_cell": "Table of Contents",
   "title_sidebar": "Contents",
   "toc_cell": false,
   "toc_position": {},
   "toc_section_display": true,
   "toc_window_display": false
  }
 },
 "nbformat": 4,
 "nbformat_minor": 2
}
